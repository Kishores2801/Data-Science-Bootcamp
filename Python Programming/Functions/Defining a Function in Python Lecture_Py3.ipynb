{
 "cells": [
  {
   "cell_type": "code",
   "metadata": {
    "ExecuteTime": {
     "end_time": "2025-02-19T11:10:41.814430Z",
     "start_time": "2025-02-19T11:10:41.805075Z"
    }
   },
   "source": [
    "def simple():\n",
    "    print (\"My first function\")"
   ],
   "outputs": [],
   "execution_count": 1
  },
  {
   "cell_type": "code",
   "metadata": {
    "ExecuteTime": {
     "end_time": "2025-02-19T11:10:41.825443Z",
     "start_time": "2025-02-19T11:10:41.818448Z"
    }
   },
   "source": [
    "simple()"
   ],
   "outputs": [
    {
     "name": "stdout",
     "output_type": "stream",
     "text": [
      "My first function\n"
     ]
    }
   ],
   "execution_count": 2
  },
  {
   "metadata": {
    "ExecuteTime": {
     "end_time": "2025-02-19T11:10:41.848060Z",
     "start_time": "2025-02-19T11:10:41.840971Z"
    }
   },
   "cell_type": "code",
   "source": [
    "def func():\n",
    "    return \"My first function\"\n",
    "\n",
    "print(func())"
   ],
   "outputs": [
    {
     "name": "stdout",
     "output_type": "stream",
     "text": [
      "My first function\n"
     ]
    }
   ],
   "execution_count": 3
  },
  {
   "metadata": {
    "ExecuteTime": {
     "end_time": "2025-02-19T11:10:41.943623Z",
     "start_time": "2025-02-19T11:10:41.936623Z"
    }
   },
   "cell_type": "code",
   "source": [
    "def plus_ten(x):\n",
    "    x = x + 10\n",
    "    return x\n",
    "\n",
    "print(plus_ten(4))"
   ],
   "outputs": [
    {
     "name": "stdout",
     "output_type": "stream",
     "text": [
      "14\n"
     ]
    }
   ],
   "execution_count": 4
  }
 ],
 "metadata": {
  "kernelspec": {
   "display_name": "Python 3",
   "language": "python",
   "name": "python3"
  },
  "language_info": {
   "codemirror_mode": {
    "name": "ipython",
    "version": 3
   },
   "file_extension": ".py",
   "mimetype": "text/x-python",
   "name": "python",
   "nbconvert_exporter": "python",
   "pygments_lexer": "ipython3",
   "version": "3.6.4"
  }
 },
 "nbformat": 4,
 "nbformat_minor": 2
}
