{
 "cells": [
  {
   "metadata": {},
   "cell_type": "markdown",
   "source": [
    "### Strings\n",
    "Text Values composed of a sequence of characters."
   ],
   "id": "e12f4f2e743f7ca0"
  },
  {
   "metadata": {
    "ExecuteTime": {
     "end_time": "2025-02-16T04:58:20.504558Z",
     "start_time": "2025-02-16T04:58:20.482705Z"
    }
   },
   "cell_type": "code",
   "source": "\"George\"",
   "id": "8f03e3d3c33bcc6e",
   "outputs": [
    {
     "data": {
      "text/plain": [
       "'George'"
      ]
     },
     "execution_count": 1,
     "metadata": {},
     "output_type": "execute_result"
    }
   ],
   "execution_count": 1
  },
  {
   "metadata": {
    "ExecuteTime": {
     "end_time": "2025-02-16T04:58:41.812Z",
     "start_time": "2025-02-16T04:58:41.804501Z"
    }
   },
   "cell_type": "code",
   "source": "print(\"George\")",
   "id": "17f2e5e5b05d39ed",
   "outputs": [
    {
     "name": "stdout",
     "output_type": "stream",
     "text": [
      "George\n"
     ]
    }
   ],
   "execution_count": 2
  },
  {
   "metadata": {
    "ExecuteTime": {
     "end_time": "2025-02-16T04:59:04.267878Z",
     "start_time": "2025-02-16T04:59:04.258048Z"
    }
   },
   "cell_type": "code",
   "source": [
    "z = \"Jhon\"\n",
    "\n",
    "print(z)"
   ],
   "id": "a1b97a5002fed243",
   "outputs": [
    {
     "name": "stdout",
     "output_type": "stream",
     "text": [
      "Jhon\n"
     ]
    }
   ],
   "execution_count": 3
  },
  {
   "metadata": {
    "ExecuteTime": {
     "end_time": "2025-02-16T05:01:18.704340Z",
     "start_time": "2025-02-16T05:01:18.697509Z"
    }
   },
   "cell_type": "code",
   "source": "print(str(19) + \" dollars\")",
   "id": "94276919cd981ecb",
   "outputs": [
    {
     "name": "stdout",
     "output_type": "stream",
     "text": [
      "19 dollars\n"
     ]
    }
   ],
   "execution_count": 5
  },
  {
   "metadata": {
    "ExecuteTime": {
     "end_time": "2025-02-16T04:59:41.738942Z",
     "start_time": "2025-02-16T04:59:41.731662Z"
    }
   },
   "cell_type": "code",
   "source": [
    "t = 10\n",
    "\n",
    "print(f\"{t} dollars\")"
   ],
   "id": "20ee0c4fc37ded63",
   "outputs": [
    {
     "name": "stdout",
     "output_type": "stream",
     "text": [
      "10 dollars\n"
     ]
    }
   ],
   "execution_count": 4
  },
  {
   "metadata": {
    "ExecuteTime": {
     "end_time": "2025-02-16T05:02:18.321732Z",
     "start_time": "2025-02-16T05:02:18.311497Z"
    }
   },
   "cell_type": "code",
   "source": [
    "# Escaping Character\n",
    "'I\\'m a string'"
   ],
   "id": "1d07af9810ca3bc9",
   "outputs": [
    {
     "data": {
      "text/plain": [
       "\"I'm a string\""
      ]
     },
     "execution_count": 6,
     "metadata": {},
     "output_type": "execute_result"
    }
   ],
   "execution_count": 6
  },
  {
   "metadata": {
    "ExecuteTime": {
     "end_time": "2025-02-16T05:05:31.416974Z",
     "start_time": "2025-02-16T05:05:31.409950Z"
    }
   },
   "cell_type": "code",
   "source": [
    "# Line Break\n",
    "print(\"I'm a string \\n I'm a string\")"
   ],
   "id": "9a208b372cf60b4a",
   "outputs": [
    {
     "name": "stdout",
     "output_type": "stream",
     "text": [
      "I'm a string \n",
      " I'm a string\n"
     ]
    }
   ],
   "execution_count": 14
  }
 ],
 "metadata": {
  "kernelspec": {
   "display_name": "Python 3",
   "language": "python",
   "name": "python3"
  },
  "language_info": {
   "codemirror_mode": {
    "name": "ipython",
    "version": 2
   },
   "file_extension": ".py",
   "mimetype": "text/x-python",
   "name": "python",
   "nbconvert_exporter": "python",
   "pygments_lexer": "ipython2",
   "version": "2.7.6"
  }
 },
 "nbformat": 4,
 "nbformat_minor": 5
}
