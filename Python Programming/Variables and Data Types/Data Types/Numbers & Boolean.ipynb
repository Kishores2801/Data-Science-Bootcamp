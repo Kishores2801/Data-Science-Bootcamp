{
 "cells": [
  {
   "metadata": {},
   "cell_type": "markdown",
   "source": "## Numbers and Boolean",
   "id": "b138d5e4d0b9b33a"
  },
  {
   "metadata": {},
   "cell_type": "markdown",
   "source": [
    "### Integers\n",
    "Positive or negative Numbers whole numbers; without a decimal Point"
   ],
   "id": "745c75f9090d07c9"
  },
  {
   "metadata": {
    "ExecuteTime": {
     "end_time": "2025-02-15T15:57:12.934469Z",
     "start_time": "2025-02-15T15:57:12.927937Z"
    }
   },
   "cell_type": "code",
   "source": "x1 = 10",
   "id": "initial_id",
   "outputs": [],
   "execution_count": 2
  },
  {
   "metadata": {
    "ExecuteTime": {
     "end_time": "2025-02-15T15:58:49.196370Z",
     "start_time": "2025-02-15T15:58:49.181661Z"
    }
   },
   "cell_type": "code",
   "source": "type(x1)",
   "id": "fe5b46672d026b65",
   "outputs": [
    {
     "data": {
      "text/plain": [
       "int"
      ]
     },
     "execution_count": 3,
     "metadata": {},
     "output_type": "execute_result"
    }
   ],
   "execution_count": 3
  },
  {
   "metadata": {
    "ExecuteTime": {
     "end_time": "2025-02-15T15:59:22.534532Z",
     "start_time": "2025-02-15T15:59:22.522458Z"
    }
   },
   "cell_type": "code",
   "source": "type(-199)",
   "id": "1fa09086995d8ed5",
   "outputs": [
    {
     "data": {
      "text/plain": [
       "int"
      ]
     },
     "execution_count": 4,
     "metadata": {},
     "output_type": "execute_result"
    }
   ],
   "execution_count": 4
  },
  {
   "metadata": {},
   "cell_type": "markdown",
   "source": [
    "### Floats\n",
    "Real Numbers with a decimal point."
   ],
   "id": "4433671d8264c0f0"
  },
  {
   "metadata": {
    "ExecuteTime": {
     "end_time": "2025-02-15T15:59:40.314064Z",
     "start_time": "2025-02-15T15:59:40.307250Z"
    }
   },
   "cell_type": "code",
   "source": "x2 = 1.0",
   "id": "68e26a95a8ed705d",
   "outputs": [],
   "execution_count": 5
  },
  {
   "metadata": {
    "ExecuteTime": {
     "end_time": "2025-02-15T15:59:46.234152Z",
     "start_time": "2025-02-15T15:59:46.225855Z"
    }
   },
   "cell_type": "code",
   "source": "type(x2)",
   "id": "5b56245af980b6a2",
   "outputs": [
    {
     "data": {
      "text/plain": [
       "float"
      ]
     },
     "execution_count": 6,
     "metadata": {},
     "output_type": "execute_result"
    }
   ],
   "execution_count": 6
  },
  {
   "metadata": {
    "ExecuteTime": {
     "end_time": "2025-02-15T16:00:02.272082Z",
     "start_time": "2025-02-15T16:00:02.264544Z"
    }
   },
   "cell_type": "code",
   "source": "type(22.2)",
   "id": "83fd42966e93963",
   "outputs": [
    {
     "data": {
      "text/plain": [
       "float"
      ]
     },
     "execution_count": 7,
     "metadata": {},
     "output_type": "execute_result"
    }
   ],
   "execution_count": 7
  },
  {
   "metadata": {},
   "cell_type": "markdown",
   "source": "### Converting the type of Data",
   "id": "74434babf2da1a8b"
  },
  {
   "metadata": {
    "ExecuteTime": {
     "end_time": "2025-02-15T16:03:05.073250Z",
     "start_time": "2025-02-15T16:03:05.063561Z"
    }
   },
   "cell_type": "code",
   "source": "int(x2)",
   "id": "f07e717456525c22",
   "outputs": [
    {
     "data": {
      "text/plain": [
       "1"
      ]
     },
     "execution_count": 8,
     "metadata": {},
     "output_type": "execute_result"
    }
   ],
   "execution_count": 8
  },
  {
   "metadata": {
    "ExecuteTime": {
     "end_time": "2025-02-15T16:03:17.215630Z",
     "start_time": "2025-02-15T16:03:17.206698Z"
    }
   },
   "cell_type": "code",
   "source": "float(x1)",
   "id": "2cc2edeafb578eaf",
   "outputs": [
    {
     "data": {
      "text/plain": [
       "10.0"
      ]
     },
     "execution_count": 9,
     "metadata": {},
     "output_type": "execute_result"
    }
   ],
   "execution_count": 9
  }
 ],
 "metadata": {
  "kernelspec": {
   "display_name": "Python 3",
   "language": "python",
   "name": "python3"
  },
  "language_info": {
   "codemirror_mode": {
    "name": "ipython",
    "version": 2
   },
   "file_extension": ".py",
   "mimetype": "text/x-python",
   "name": "python",
   "nbconvert_exporter": "python",
   "pygments_lexer": "ipython2",
   "version": "2.7.6"
  }
 },
 "nbformat": 4,
 "nbformat_minor": 5
}
