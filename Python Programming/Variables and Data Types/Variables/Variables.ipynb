{
 "cells": [
  {
   "metadata": {},
   "cell_type": "markdown",
   "source": [
    "#### Variables\n",
    "A Python variable is a reserved memory location to store values In other words, a variable in a python program gives data to the computer for processing."
   ],
   "id": "ae5e06d46bf31e20"
  },
  {
   "metadata": {
    "ExecuteTime": {
     "end_time": "2025-02-15T15:06:01.095197Z",
     "start_time": "2025-02-15T15:06:01.079140Z"
    }
   },
   "cell_type": "code",
   "source": [
    "x = 4\n",
    "print(x)"
   ],
   "id": "fab8bcef5dd7da92",
   "outputs": [
    {
     "name": "stdout",
     "output_type": "stream",
     "text": [
      "4\n"
     ]
    }
   ],
   "execution_count": 1
  },
  {
   "metadata": {
    "ExecuteTime": {
     "end_time": "2025-02-15T15:07:34.308590Z",
     "start_time": "2025-02-15T15:07:34.288038Z"
    }
   },
   "cell_type": "code",
   "source": [
    "y = 10\n",
    "y"
   ],
   "id": "7e99f0eabe8a9f04",
   "outputs": [
    {
     "data": {
      "text/plain": [
       "10"
      ]
     },
     "execution_count": 2,
     "metadata": {},
     "output_type": "execute_result"
    }
   ],
   "execution_count": 2
  },
  {
   "metadata": {
    "ExecuteTime": {
     "end_time": "2025-02-15T15:08:05.496412Z",
     "start_time": "2025-02-15T15:08:05.484401Z"
    }
   },
   "cell_type": "code",
   "source": [
    "# Creating variables in same line\n",
    "a, b, c, d = 10, 20, 30, 40\n",
    "\n",
    "a"
   ],
   "id": "f1cb7d1314631cbe",
   "outputs": [
    {
     "data": {
      "text/plain": [
       "10"
      ]
     },
     "execution_count": 3,
     "metadata": {},
     "output_type": "execute_result"
    }
   ],
   "execution_count": 3
  }
 ],
 "metadata": {
  "kernelspec": {
   "display_name": "Python 3",
   "language": "python",
   "name": "python3"
  },
  "language_info": {
   "codemirror_mode": {
    "name": "ipython",
    "version": 2
   },
   "file_extension": ".py",
   "mimetype": "text/x-python",
   "name": "python",
   "nbconvert_exporter": "python",
   "pygments_lexer": "ipython2",
   "version": "2.7.6"
  }
 },
 "nbformat": 4,
 "nbformat_minor": 5
}
