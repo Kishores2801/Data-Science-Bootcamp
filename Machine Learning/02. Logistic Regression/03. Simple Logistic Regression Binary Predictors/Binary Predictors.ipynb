{
 "cells": [
  {
   "metadata": {},
   "cell_type": "markdown",
   "source": "## Import the relevent libraries",
   "id": "deff721fb3b7ddb2"
  },
  {
   "cell_type": "code",
   "id": "initial_id",
   "metadata": {
    "collapsed": true,
    "ExecuteTime": {
     "end_time": "2025-03-20T14:46:27.865429Z",
     "start_time": "2025-03-20T14:46:27.576435Z"
    }
   },
   "source": [
    "import numpy as np\n",
    "import pandas as pd\n",
    "import statsmodels.api as sm\n",
    "import matplotlib.pyplot as plt\n",
    "import seaborn as sns\n",
    "sns.set()\n",
    "\n",
    "#Apply a fix to the statsmodels library\n",
    "from scipy import stats\n",
    "stats.chisqprob = lambda chisq, df: stats.chi2.sf(chisq, df)"
   ],
   "outputs": [],
   "execution_count": 1
  },
  {
   "metadata": {},
   "cell_type": "markdown",
   "source": "### Loading the Dataset",
   "id": "bb35687c53cba0c4"
  },
  {
   "metadata": {
    "ExecuteTime": {
     "end_time": "2025-03-20T14:46:29.361160Z",
     "start_time": "2025-03-20T14:46:29.346537Z"
    }
   },
   "cell_type": "code",
   "source": [
    "data = pd.read_csv('2.02. Binary predictors.csv')\n",
    "data.head()"
   ],
   "id": "603df783c70fd033",
   "outputs": [
    {
     "data": {
      "text/plain": [
       "    SAT Admitted  Gender\n",
       "0  1363       No    Male\n",
       "1  1792      Yes  Female\n",
       "2  1954      Yes  Female\n",
       "3  1653       No    Male\n",
       "4  1593       No    Male"
      ],
      "text/html": [
       "<div>\n",
       "<style scoped>\n",
       "    .dataframe tbody tr th:only-of-type {\n",
       "        vertical-align: middle;\n",
       "    }\n",
       "\n",
       "    .dataframe tbody tr th {\n",
       "        vertical-align: top;\n",
       "    }\n",
       "\n",
       "    .dataframe thead th {\n",
       "        text-align: right;\n",
       "    }\n",
       "</style>\n",
       "<table border=\"1\" class=\"dataframe\">\n",
       "  <thead>\n",
       "    <tr style=\"text-align: right;\">\n",
       "      <th></th>\n",
       "      <th>SAT</th>\n",
       "      <th>Admitted</th>\n",
       "      <th>Gender</th>\n",
       "    </tr>\n",
       "  </thead>\n",
       "  <tbody>\n",
       "    <tr>\n",
       "      <th>0</th>\n",
       "      <td>1363</td>\n",
       "      <td>No</td>\n",
       "      <td>Male</td>\n",
       "    </tr>\n",
       "    <tr>\n",
       "      <th>1</th>\n",
       "      <td>1792</td>\n",
       "      <td>Yes</td>\n",
       "      <td>Female</td>\n",
       "    </tr>\n",
       "    <tr>\n",
       "      <th>2</th>\n",
       "      <td>1954</td>\n",
       "      <td>Yes</td>\n",
       "      <td>Female</td>\n",
       "    </tr>\n",
       "    <tr>\n",
       "      <th>3</th>\n",
       "      <td>1653</td>\n",
       "      <td>No</td>\n",
       "      <td>Male</td>\n",
       "    </tr>\n",
       "    <tr>\n",
       "      <th>4</th>\n",
       "      <td>1593</td>\n",
       "      <td>No</td>\n",
       "      <td>Male</td>\n",
       "    </tr>\n",
       "  </tbody>\n",
       "</table>\n",
       "</div>"
      ]
     },
     "execution_count": 2,
     "metadata": {},
     "output_type": "execute_result"
    }
   ],
   "execution_count": 2
  },
  {
   "metadata": {
    "ExecuteTime": {
     "end_time": "2025-03-20T14:46:30.439958Z",
     "start_time": "2025-03-20T14:46:30.431067Z"
    }
   },
   "cell_type": "code",
   "source": [
    "data[\"Admitted\"] = data[\"Admitted\"].map({\"Yes\": 1, \"No\": 0})\n",
    "data[\"Gender\"] = data[\"Gender\"].map({\"Male\": 1, \"Female\": 0})\n",
    "data.head()"
   ],
   "id": "2da37903a83cc408",
   "outputs": [
    {
     "data": {
      "text/plain": [
       "    SAT  Admitted  Gender\n",
       "0  1363         0       1\n",
       "1  1792         1       0\n",
       "2  1954         1       0\n",
       "3  1653         0       1\n",
       "4  1593         0       1"
      ],
      "text/html": [
       "<div>\n",
       "<style scoped>\n",
       "    .dataframe tbody tr th:only-of-type {\n",
       "        vertical-align: middle;\n",
       "    }\n",
       "\n",
       "    .dataframe tbody tr th {\n",
       "        vertical-align: top;\n",
       "    }\n",
       "\n",
       "    .dataframe thead th {\n",
       "        text-align: right;\n",
       "    }\n",
       "</style>\n",
       "<table border=\"1\" class=\"dataframe\">\n",
       "  <thead>\n",
       "    <tr style=\"text-align: right;\">\n",
       "      <th></th>\n",
       "      <th>SAT</th>\n",
       "      <th>Admitted</th>\n",
       "      <th>Gender</th>\n",
       "    </tr>\n",
       "  </thead>\n",
       "  <tbody>\n",
       "    <tr>\n",
       "      <th>0</th>\n",
       "      <td>1363</td>\n",
       "      <td>0</td>\n",
       "      <td>1</td>\n",
       "    </tr>\n",
       "    <tr>\n",
       "      <th>1</th>\n",
       "      <td>1792</td>\n",
       "      <td>1</td>\n",
       "      <td>0</td>\n",
       "    </tr>\n",
       "    <tr>\n",
       "      <th>2</th>\n",
       "      <td>1954</td>\n",
       "      <td>1</td>\n",
       "      <td>0</td>\n",
       "    </tr>\n",
       "    <tr>\n",
       "      <th>3</th>\n",
       "      <td>1653</td>\n",
       "      <td>0</td>\n",
       "      <td>1</td>\n",
       "    </tr>\n",
       "    <tr>\n",
       "      <th>4</th>\n",
       "      <td>1593</td>\n",
       "      <td>0</td>\n",
       "      <td>1</td>\n",
       "    </tr>\n",
       "  </tbody>\n",
       "</table>\n",
       "</div>"
      ]
     },
     "execution_count": 3,
     "metadata": {},
     "output_type": "execute_result"
    }
   ],
   "execution_count": 3
  },
  {
   "metadata": {},
   "cell_type": "markdown",
   "source": "### Declaring Dependent & Independent Variables",
   "id": "3bc23179e4d0e900"
  },
  {
   "metadata": {
    "ExecuteTime": {
     "end_time": "2025-03-20T14:47:17.567395Z",
     "start_time": "2025-03-20T14:47:17.562879Z"
    }
   },
   "cell_type": "code",
   "source": [
    "y = data['Admitted']\n",
    "x1 = data[['SAT','Gender']]"
   ],
   "id": "d28e8a07f70c2116",
   "outputs": [],
   "execution_count": 4
  },
  {
   "metadata": {},
   "cell_type": "markdown",
   "source": "### Regression",
   "id": "b947a515d7a6d359"
  },
  {
   "metadata": {
    "ExecuteTime": {
     "end_time": "2025-03-20T14:48:21.889761Z",
     "start_time": "2025-03-20T14:48:21.864741Z"
    }
   },
   "cell_type": "code",
   "source": [
    "x = sm.add_constant(x1)\n",
    "model = sm.Logit(y, x)\n",
    "results = model.fit()\n",
    "\n",
    "results.summary()"
   ],
   "id": "d2aca211310456e5",
   "outputs": [
    {
     "name": "stdout",
     "output_type": "stream",
     "text": [
      "Optimization terminated successfully.\n",
      "         Current function value: 0.120117\n",
      "         Iterations 10\n"
     ]
    },
    {
     "data": {
      "text/plain": [
       "<class 'statsmodels.iolib.summary.Summary'>\n",
       "\"\"\"\n",
       "                           Logit Regression Results                           \n",
       "==============================================================================\n",
       "Dep. Variable:               Admitted   No. Observations:                  168\n",
       "Model:                          Logit   Df Residuals:                      165\n",
       "Method:                           MLE   Df Model:                            2\n",
       "Date:                Thu, 20 Mar 2025   Pseudo R-squ.:                  0.8249\n",
       "Time:                        20:18:21   Log-Likelihood:                -20.180\n",
       "converged:                       True   LL-Null:                       -115.26\n",
       "Covariance Type:            nonrobust   LLR p-value:                 5.118e-42\n",
       "==============================================================================\n",
       "                 coef    std err          z      P>|z|      [0.025      0.975]\n",
       "------------------------------------------------------------------------------\n",
       "const        -66.4040     16.321     -4.068      0.000     -98.394     -34.414\n",
       "SAT            0.0406      0.010      4.129      0.000       0.021       0.060\n",
       "Gender        -1.9449      0.846     -2.299      0.022      -3.603      -0.287\n",
       "==============================================================================\n",
       "\n",
       "Possibly complete quasi-separation: A fraction 0.27 of observations can be\n",
       "perfectly predicted. This might indicate that there is complete\n",
       "quasi-separation. In this case some parameters will not be identified.\n",
       "\"\"\""
      ],
      "text/html": [
       "<table class=\"simpletable\">\n",
       "<caption>Logit Regression Results</caption>\n",
       "<tr>\n",
       "  <th>Dep. Variable:</th>       <td>Admitted</td>     <th>  No. Observations:  </th>  <td>   168</td>  \n",
       "</tr>\n",
       "<tr>\n",
       "  <th>Model:</th>                 <td>Logit</td>      <th>  Df Residuals:      </th>  <td>   165</td>  \n",
       "</tr>\n",
       "<tr>\n",
       "  <th>Method:</th>                 <td>MLE</td>       <th>  Df Model:          </th>  <td>     2</td>  \n",
       "</tr>\n",
       "<tr>\n",
       "  <th>Date:</th>            <td>Thu, 20 Mar 2025</td> <th>  Pseudo R-squ.:     </th>  <td>0.8249</td>  \n",
       "</tr>\n",
       "<tr>\n",
       "  <th>Time:</th>                <td>20:18:21</td>     <th>  Log-Likelihood:    </th> <td> -20.180</td> \n",
       "</tr>\n",
       "<tr>\n",
       "  <th>converged:</th>             <td>True</td>       <th>  LL-Null:           </th> <td> -115.26</td> \n",
       "</tr>\n",
       "<tr>\n",
       "  <th>Covariance Type:</th>     <td>nonrobust</td>    <th>  LLR p-value:       </th> <td>5.118e-42</td>\n",
       "</tr>\n",
       "</table>\n",
       "<table class=\"simpletable\">\n",
       "<tr>\n",
       "     <td></td>       <th>coef</th>     <th>std err</th>      <th>z</th>      <th>P>|z|</th>  <th>[0.025</th>    <th>0.975]</th>  \n",
       "</tr>\n",
       "<tr>\n",
       "  <th>const</th>  <td>  -66.4040</td> <td>   16.321</td> <td>   -4.068</td> <td> 0.000</td> <td>  -98.394</td> <td>  -34.414</td>\n",
       "</tr>\n",
       "<tr>\n",
       "  <th>SAT</th>    <td>    0.0406</td> <td>    0.010</td> <td>    4.129</td> <td> 0.000</td> <td>    0.021</td> <td>    0.060</td>\n",
       "</tr>\n",
       "<tr>\n",
       "  <th>Gender</th> <td>   -1.9449</td> <td>    0.846</td> <td>   -2.299</td> <td> 0.022</td> <td>   -3.603</td> <td>   -0.287</td>\n",
       "</tr>\n",
       "</table><br/><br/>Possibly complete quasi-separation: A fraction 0.27 of observations can be<br/>perfectly predicted. This might indicate that there is complete<br/>quasi-separation. In this case some parameters will not be identified."
      ],
      "text/latex": "\\begin{center}\n\\begin{tabular}{lclc}\n\\toprule\n\\textbf{Dep. Variable:}   &     Admitted     & \\textbf{  No. Observations:  } &      168    \\\\\n\\textbf{Model:}           &      Logit       & \\textbf{  Df Residuals:      } &      165    \\\\\n\\textbf{Method:}          &       MLE        & \\textbf{  Df Model:          } &        2    \\\\\n\\textbf{Date:}            & Thu, 20 Mar 2025 & \\textbf{  Pseudo R-squ.:     } &   0.8249    \\\\\n\\textbf{Time:}            &     20:18:21     & \\textbf{  Log-Likelihood:    } &   -20.180   \\\\\n\\textbf{converged:}       &       True       & \\textbf{  LL-Null:           } &   -115.26   \\\\\n\\textbf{Covariance Type:} &    nonrobust     & \\textbf{  LLR p-value:       } & 5.118e-42   \\\\\n\\bottomrule\n\\end{tabular}\n\\begin{tabular}{lcccccc}\n                & \\textbf{coef} & \\textbf{std err} & \\textbf{z} & \\textbf{P$> |$z$|$} & \\textbf{[0.025} & \\textbf{0.975]}  \\\\\n\\midrule\n\\textbf{const}  &     -66.4040  &       16.321     &    -4.068  &         0.000        &      -98.394    &      -34.414     \\\\\n\\textbf{SAT}    &       0.0406  &        0.010     &     4.129  &         0.000        &        0.021    &        0.060     \\\\\n\\textbf{Gender} &      -1.9449  &        0.846     &    -2.299  &         0.022        &       -3.603    &       -0.287     \\\\\n\\bottomrule\n\\end{tabular}\n%\\caption{Logit Regression Results}\n\\end{center}\n\nPossibly complete quasi-separation: A fraction 0.27 of observations can be \\newline\n perfectly predicted. This might indicate that there is complete \\newline\n quasi-separation. In this case some parameters will not be identified."
     },
     "execution_count": 5,
     "metadata": {},
     "output_type": "execute_result"
    }
   ],
   "execution_count": 5
  },
  {
   "metadata": {},
   "cell_type": "code",
   "outputs": [],
   "execution_count": null,
   "source": "",
   "id": "503c5c8d117a8c1a"
  }
 ],
 "metadata": {
  "kernelspec": {
   "display_name": "Python 3",
   "language": "python",
   "name": "python3"
  },
  "language_info": {
   "codemirror_mode": {
    "name": "ipython",
    "version": 2
   },
   "file_extension": ".py",
   "mimetype": "text/x-python",
   "name": "python",
   "nbconvert_exporter": "python",
   "pygments_lexer": "ipython2",
   "version": "2.7.6"
  }
 },
 "nbformat": 4,
 "nbformat_minor": 5
}
